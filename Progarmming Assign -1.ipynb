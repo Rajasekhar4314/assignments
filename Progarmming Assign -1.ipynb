{
 "cells": [
  {
   "cell_type": "markdown",
   "metadata": {},
   "source": [
    "1. Write a Python program to print \"Hello Python\"?\n",
    "2. Write a Python program to do arithmetical operations addition and division.?\n",
    "3. Write a Python program to find the area of a triangle?\n",
    "4. Write a Python program to swap two variables?\n",
    "5. Write a Python program to generate a random number?"
   ]
  },
  {
   "cell_type": "code",
   "execution_count": 1,
   "metadata": {},
   "outputs": [
    {
     "name": "stdout",
     "output_type": "stream",
     "text": [
      "enter a characterHello python\n",
      "Hello python\n"
     ]
    }
   ],
   "source": [
    "## question 1.\n",
    "a = input(\"enter a character\")\n",
    "print(a)"
   ]
  },
  {
   "cell_type": "code",
   "execution_count": 2,
   "metadata": {},
   "outputs": [
    {
     "name": "stdout",
     "output_type": "stream",
     "text": [
      "enter an integer n1  20\n",
      "enter an integer n2  10\n",
      "30\n",
      "2.0\n"
     ]
    }
   ],
   "source": [
    "###question 2.\n",
    "n1 = int(input(\"enter an integer n1  \"))\n",
    "n2 = int(input(\"enter an integer n2  \"))\n",
    "add1=n1+n2\n",
    "add2=n1/n2\n",
    "print(add1)\n",
    "print(add2)"
   ]
  },
  {
   "cell_type": "code",
   "execution_count": 11,
   "metadata": {},
   "outputs": [
    {
     "name": "stdout",
     "output_type": "stream",
     "text": [
      "Please Enter the First side of a Triangle: 5\n",
      "Please Enter the Second side of b Triangle: 6\n",
      "Please Enter the Third side of c Triangle: 7\n",
      "\n",
      " The Perimeter of Traiangle = %.2f 18.0\n",
      " The Semi Perimeter of Traiangle = %.2f 9.0\n",
      " The Area of a Triangle is %0.2f 14.696938456699069\n"
     ]
    }
   ],
   "source": [
    "a = float('Please Enter the First side of a Triangle: '))\n",
    "b = float(input('Please Enter the Second side of b Triangle: '))\n",
    "c = float(input('Please Enter the Third side of c Triangle: '))\n",
    " \n",
    "# calculate the Perimeter\n",
    "Perimeter = a + b + c\n",
    " \n",
    "# calculate the semi-perimeter\n",
    "s = (a + b + c) / 2\n",
    " \n",
    "# calculate the area\n",
    "Area = (s*(s-a)*(s-b)*(s-c)) ** 0.5\n",
    " \n",
    "print(\"\\n The Perimeter of Traiangle = %.2f\" ,Perimeter);\n",
    "print(\" The Semi Perimeter of Traiangle = %.2f\" ,s);\n",
    "print(\" The Area of a Triangle is %0.2f\" ,Area)"
   ]
  },
  {
   "cell_type": "code",
   "execution_count": 13,
   "metadata": {},
   "outputs": [
    {
     "name": "stdout",
     "output_type": "stream",
     "text": [
      "enter an integer x:10\n",
      "enter an integer y:20\n",
      "x = 20\n",
      "y = 10\n"
     ]
    }
   ],
   "source": [
    "### question 4\n",
    "\n",
    "x = int(input(\"enter an integer x:\"))\n",
    "y = int(input(\"enter an integer y:\"))\n",
    "x, y = y, x\n",
    "print(\"x =\", x)\n",
    "print(\"y =\", y)"
   ]
  },
  {
   "cell_type": "code",
   "execution_count": 27,
   "metadata": {},
   "outputs": [
    {
     "name": "stdout",
     "output_type": "stream",
     "text": [
      "7\n",
      "10\n"
     ]
    }
   ],
   "source": [
    "### question 5\n",
    "import random\n",
    "for x in range(2):\n",
    "    \n",
    "    print(random.randint(1,10))"
   ]
  },
  {
   "cell_type": "code",
   "execution_count": null,
   "metadata": {},
   "outputs": [],
   "source": []
  }
 ],
 "metadata": {
  "kernelspec": {
   "display_name": "Python 3",
   "language": "python",
   "name": "python3"
  },
  "language_info": {
   "codemirror_mode": {
    "name": "ipython",
    "version": 3
   },
   "file_extension": ".py",
   "mimetype": "text/x-python",
   "name": "python",
   "nbconvert_exporter": "python",
   "pygments_lexer": "ipython3",
   "version": "3.8.5"
  }
 },
 "nbformat": 4,
 "nbformat_minor": 4
}
