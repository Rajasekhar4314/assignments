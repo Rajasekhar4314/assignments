{
 "cells": [
  {
   "cell_type": "markdown",
   "metadata": {},
   "source": [
    "1. Write a Python Program to Find LCM?\n",
    "2. Write a Python Program to Find HCF?\n",
    "3. Write a Python Program to Convert Decimal to Binary, Octal and          Hexadecimal?\n",
    "4. Write a Python Program To Find ASCII value of a character?\n",
    "5. Write a Python Program to Make a Simple Calculator with 4 basic mathematical operations?"
   ]
  },
  {
   "cell_type": "code",
   "execution_count": null,
   "metadata": {},
   "outputs": [],
   "source": []
  },
  {
   "cell_type": "code",
   "execution_count": 2,
   "metadata": {},
   "outputs": [
    {
     "name": "stdout",
     "output_type": "stream",
     "text": [
      "216\n"
     ]
    }
   ],
   "source": [
    "### Q1.Write a Python Program to Find LCM\n",
    "\n",
    "def lcm(x,y):\n",
    "    if x>y:\n",
    "        greater =x\n",
    "    else:\n",
    "        greater = y\n",
    "        \n",
    "    while(True):\n",
    "        if((greater % x==0)  and (greater % y==0)):\n",
    "            lcm=greater\n",
    "            break\n",
    "        greater +=1\n",
    "    return lcm\n",
    "x,y=54,24\n",
    "print(lcm(x,y))\n"
   ]
  },
  {
   "cell_type": "code",
   "execution_count": 4,
   "metadata": {},
   "outputs": [
    {
     "name": "stdout",
     "output_type": "stream",
     "text": [
      "8\n"
     ]
    }
   ],
   "source": [
    "### Q2.Write a Python Program to Find HCF?\n",
    "\n",
    "\n",
    "def hcf(x,y):\n",
    "    if x>y:\n",
    "        smaller=y\n",
    "    else:\n",
    "        smaller=x\n",
    "        \n",
    "    for i in range(1,smaller+1):\n",
    "        if ((x%i==0) and (y%i==0)):\n",
    "            \n",
    "            hcf=i\n",
    "    return hcf\n",
    "            \n",
    "x=24\n",
    "y=16\n",
    "print(hcf(x,y))\n",
    "\n"
   ]
  },
  {
   "cell_type": "code",
   "execution_count": 6,
   "metadata": {},
   "outputs": [
    {
     "name": "stdout",
     "output_type": "stream",
     "text": [
      "binary of decimal is: 0b1100100\n",
      "octal of decimal is: 0o144\n",
      "hexa of decimal is: 0x64\n"
     ]
    }
   ],
   "source": [
    "### Q3.Write a Python Program to Convert Decimal to Binary, Octal and Hexadecimal?\n",
    "\n",
    "decimal=100\n",
    "\n",
    "\n",
    "print(\"binary of decimal is:\",bin(decimal))\n",
    "\n",
    "print(\"octal of decimal is:\",oct(decimal))\n",
    "\n",
    "print(\"hexa of decimal is:\",hex(decimal))\n",
    "\n",
    "\n",
    "\n",
    "\n",
    "\n"
   ]
  },
  {
   "cell_type": "code",
   "execution_count": 15,
   "metadata": {},
   "outputs": [
    {
     "name": "stdout",
     "output_type": "stream",
     "text": [
      "the ASCII value is  97\n",
      "the character of 97 value is a\n"
     ]
    }
   ],
   "source": [
    "### Q4.Write a Python Program To Find ASCII value of a character?\n",
    "\n",
    "name=\"a\"\n",
    "\n",
    "print(\"the ASCII value is \" , ord(name))\n",
    "\n",
    "print(\"the character of 97 value is\" , chr(97))\n"
   ]
  },
  {
   "cell_type": "code",
   "execution_count": 17,
   "metadata": {},
   "outputs": [
    {
     "data": {
      "text/plain": [
       "4.0"
      ]
     },
     "execution_count": 17,
     "metadata": {},
     "output_type": "execute_result"
    }
   ],
   "source": [
    "### Q5.Write a Python Program to Make a Simple Calculator with 4 basic mathematical operations?\n",
    "\n",
    "def addition (x,y):\n",
    "    return x+y\n",
    "\n",
    "def subtraction(x,y):\n",
    "    return x-y\n",
    "\n",
    "def multiplication (x,y):\n",
    "    return x*y\n",
    "\n",
    "def  division(x,y):\n",
    "    return x/y\n",
    "\n",
    "addition(10,20)\n",
    "\n",
    "subtraction(100,50)\n",
    "\n",
    "multiplication (5,10)\n",
    "\n",
    "\n",
    "division(20,5)\n",
    "\n",
    "\n"
   ]
  },
  {
   "cell_type": "code",
   "execution_count": 20,
   "metadata": {},
   "outputs": [
    {
     "data": {
      "text/plain": [
       "30"
      ]
     },
     "execution_count": 20,
     "metadata": {},
     "output_type": "execute_result"
    }
   ],
   "source": [
    "def addition (x,y):\n",
    "    return x+y\n",
    "addition(10,20)\n",
    "\n"
   ]
  },
  {
   "cell_type": "code",
   "execution_count": 21,
   "metadata": {},
   "outputs": [
    {
     "data": {
      "text/plain": [
       "50"
      ]
     },
     "execution_count": 21,
     "metadata": {},
     "output_type": "execute_result"
    }
   ],
   "source": [
    "def subtraction(x,y):\n",
    "    return x-y\n",
    "subtraction(100,50)"
   ]
  },
  {
   "cell_type": "code",
   "execution_count": 22,
   "metadata": {},
   "outputs": [
    {
     "data": {
      "text/plain": [
       "50"
      ]
     },
     "execution_count": 22,
     "metadata": {},
     "output_type": "execute_result"
    }
   ],
   "source": [
    "def multiplication (x,y):\n",
    "    return x*y\n",
    "\n",
    "multiplication (5,10)"
   ]
  },
  {
   "cell_type": "code",
   "execution_count": 23,
   "metadata": {},
   "outputs": [
    {
     "data": {
      "text/plain": [
       "4.0"
      ]
     },
     "execution_count": 23,
     "metadata": {},
     "output_type": "execute_result"
    }
   ],
   "source": [
    "def  division(x,y):\n",
    "    return x/y\n",
    "\n",
    "division(20,5)"
   ]
  },
  {
   "cell_type": "code",
   "execution_count": null,
   "metadata": {},
   "outputs": [],
   "source": []
  }
 ],
 "metadata": {
  "kernelspec": {
   "display_name": "Python 3",
   "language": "python",
   "name": "python3"
  },
  "language_info": {
   "codemirror_mode": {
    "name": "ipython",
    "version": 3
   },
   "file_extension": ".py",
   "mimetype": "text/x-python",
   "name": "python",
   "nbconvert_exporter": "python",
   "pygments_lexer": "ipython3",
   "version": "3.8.5"
  }
 },
 "nbformat": 4,
 "nbformat_minor": 4
}
